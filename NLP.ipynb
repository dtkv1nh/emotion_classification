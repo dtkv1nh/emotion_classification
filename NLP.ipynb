{
  "cells": [
    {
      "cell_type": "code",
      "source": [
        "import numpy as np\n",
        "import pandas as pd\n",
        "import pickle\n",
        "import re\n",
        "import tensorflow as tf\n",
        "import nltk\n",
        "from nltk.tokenize import word_tokenize\n",
        "from nltk.stem import WordNetLemmatizer\n",
        "from nltk.corpus import stopwords\n",
        "from tensorflow.keras.preprocessing.text import Tokenizer\n",
        "from tensorflow.keras.preprocessing.sequence import pad_sequences\n",
        "from tensorflow.keras.models import Sequential\n",
        "from tensorflow.keras.layers import Embedding, LSTM, Dense, SpatialDropout1D, Dropout, Bidirectional, Conv1D, GlobalMaxPooling1D\n",
        "\n",
        "nltk.download(\"stopwords\")\n",
        "nltk.download(\"punkt\")\n",
        "nltk.download(\"wordnet\")\n",
        "nltk.download('punkt_tab')"
      ],
      "metadata": {
        "id": "3fAFniQb5x4m"
      },
      "execution_count": null,
      "outputs": []
    },
    {
      "cell_type": "code",
      "source": [
        "stop_words = set(stopwords.words(\"english\"))\n",
        "custom_stopwords = {'feel', 'feeling', 'like', 'im', 'really', 'get', 'http', 'href', 'www'}\n",
        "stop_words.update(custom_stopwords)\n",
        "\n",
        "def preprocess_text(text):\n",
        "    text = text.lower()\n",
        "    text = re.sub(r'\\W', ' ', text) #Xóa kí tự đặc biệt\n",
        "    text = re.sub(r'\\s+', ' ', text)  #Xóa khoảng trắng dư\n",
        "    text = re.sub(r'\\d+', '', text) #Xóa số\n",
        "    words = word_tokenize(text)\n",
        "    words = [w for w in words if w not in stop_words]\n",
        "    lemmatizer = WordNetLemmatizer()\n",
        "    words = [lemmatizer.lemmatize(w) for w in words]\n",
        "    return \" \".join(words)\n",
        "\n",
        "with open('train_X.pkl', 'rb') as f:\n",
        "    train_X = pickle.load(f)\n",
        "with open('train_y.pkl', 'rb') as f:\n",
        "    train_y = pickle.load(f)\n",
        "with open('private_X.pkl', 'rb') as f:\n",
        "    test_X = pickle.load(f)\n",
        "\n",
        "df = pd.DataFrame(list(zip(train_X, train_y)), columns=['sentence', 'emotion'])\n",
        "test = pd.DataFrame(test_X, columns=['sentence'])\n",
        "\n",
        "df[\"sentence\"] = df[\"sentence\"].apply(preprocess_text)\n",
        "test[\"sentence\"] = test[\"sentence\"].apply(preprocess_text)\n",
        "\n",
        "df = df.drop_duplicates()"
      ],
      "metadata": {
        "id": "MzqnJE9mAZb-"
      },
      "execution_count": null,
      "outputs": []
    },
    {
      "cell_type": "code",
      "source": [
        "max_words = 13000\n",
        "max_len = 100\n",
        "\n",
        "tokenizer = Tokenizer(num_words=max_words, oov_token=\"<OOV>\")\n",
        "tokenizer.fit_on_texts(df[\"sentence\"])\n",
        "X_seq = tokenizer.texts_to_sequences(df[\"sentence\"])\n",
        "X_padded = pad_sequences(X_seq, maxlen=max_len)\n",
        "\n",
        "from sklearn.model_selection import train_test_split\n",
        "X_train, X_test, y_train, y_test = train_test_split(X_padded, df['emotion'], test_size=0.2, random_state=42)"
      ],
      "metadata": {
        "id": "a1RhiLNw7gNe"
      },
      "execution_count": null,
      "outputs": []
    },
    {
      "cell_type": "code",
      "source": [
        "cnn_model = Sequential([\n",
        "    Embedding(input_dim=max_words, output_dim=128, input_length=max_len),\n",
        "    Conv1D(filters=64, kernel_size=5, activation='relu'),\n",
        "    GlobalMaxPooling1D(),\n",
        "    Dense(32, activation='relu'),\n",
        "    Dropout(0.2),\n",
        "    Dense(6, activation='softmax')\n",
        "])\n",
        "cnn_model.compile(loss='sparse_categorical_crossentropy', optimizer='adam', metrics=['accuracy'])\n",
        "\n",
        "cnn_model = create_cnn_model()\n",
        "cnn_model.fit(X_train, y_train, epochs=5, batch_size=32, validation_data=(X_test, y_test))\n",
        "cnn_acc = cnn_model.evaluate(X_test, y_test)[1]\n",
        "print(\"CNN Accuracy:\", cnn_acc)\n",
        "\n",
        "def submission(model, filename):\n",
        "    test_seq = tokenizer.texts_to_sequences(test[\"sentence\"])\n",
        "    test_padded = pad_sequences(test_seq, maxlen=max_len)\n",
        "    y_pred = model.predict(test_padded)\n",
        "    y_pred = np.argmax(y_pred, axis=1)\n",
        "    with open(filename, 'w') as f:\n",
        "        for item in y_pred:\n",
        "            f.write(\"%s\\n\" % item)\n",
        "\n",
        "submission(cnn_model, 'submission_cnn.txt')"
      ],
      "metadata": {
        "id": "D7RaQrSY7lMu"
      },
      "execution_count": null,
      "outputs": []
    }
  ],
  "metadata": {
    "colab": {
      "collapsed_sections": [
        "EgI74XVh4Osb"
      ],
      "provenance": [],
      "gpuType": "T4"
    },
    "kernelspec": {
      "display_name": "Python 3",
      "name": "python3"
    },
    "language_info": {
      "name": "python"
    },
    "accelerator": "GPU"
  },
  "nbformat": 4,
  "nbformat_minor": 0
}